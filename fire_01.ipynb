{
  "nbformat": 4,
  "nbformat_minor": 0,
  "metadata": {
    "colab": {
      "provenance": []
    },
    "kernelspec": {
      "name": "python3",
      "display_name": "Python 3"
    },
    "language_info": {
      "name": "python"
    }
  },
  "cells": [
    {
      "cell_type": "code",
      "execution_count": null,
      "metadata": {
        "id": "lySz0Kegb8y4"
      },
      "outputs": [],
      "source": [
        "import cv2\n",
        "from ultralytics import YOLO\n",
        "import pyttsx3\n",
        "\n",
        "# 초기화\n",
        "model = YOLO(\"/Users/goremi/Downloads/[강의교안][실습]+02.+동영상+파일+다루기,+마우스+이벤트+예제+구현 (1)/fire.pt\")  # fall.pt 파일이 동일 폴더에 있어야 함\n",
        "\n",
        "engine = pyttsx3.init()\n",
        "cap = cv2.VideoCapture(0)\n",
        "if not cap.isOpened():\n",
        "\n",
        "    raise RuntimeError(\"카메라를 열 수 없습니다\")\n",
        "\n",
        "while True:\n",
        "    ret, frame = cap.read()\n",
        "    if not ret: break\n",
        "\n",
        "    # 추론\n",
        "    results = model(frame, conf=0.3,verbose=False)\n",
        "\n",
        "    # 화재 감지 플래그\n",
        "    fire_detected = False\n",
        "\n",
        "    # 결과 처리\n",
        "    for result in results:\n",
        "        for box in result.boxes:\n",
        "\n",
        "\n",
        "            x1, y1, x2, y2 = map(int, box.xyxy[0].tolist())\n",
        "            confidence = box.conf.item()\n",
        "            # class_id = int(box.cls.item())\n",
        "            # label = model.names[class_id]\n",
        "            label = model.names[int(box.cls.item())]\n",
        "            print(label)\n",
        "            # 화재 감지 시 시각화\n",
        "            if label == 'Fire':\n",
        "                color = (0, 0, 255)  # 빨간색 (BGR)\n",
        "                cv2.rectangle(frame, (x1, y1), (x2, y2), color, 2)\n",
        "                cv2.putText(frame, f'{label} {confidence:.2f}',\n",
        "                            (x1, y1 - 10),\n",
        "                            cv2.FONT_HERSHEY_SIMPLEX,\n",
        "                            0.7, color, 2)\n",
        "                fire_detected = True  # 플래그 업데이트\n",
        "\n",
        "    # 화재가 감지된 경우에만 음성 출력 (중복 방지)\n",
        "    if fire_detected:\n",
        "        engine.say(\"화재가 감지되었습니다. 즉시 대피하세요.\")\n",
        "        engine.runAndWait()\n",
        "\n",
        "    cv2.imshow('Fire Detection', frame)\n",
        "    if cv2.waitKey(1) == ord('q'):\n",
        "        break\n",
        "\n",
        "cap.release()\n",
        "cv2.destroyAllWindows()\n",
        "\n"
      ]
    }
  ]
}