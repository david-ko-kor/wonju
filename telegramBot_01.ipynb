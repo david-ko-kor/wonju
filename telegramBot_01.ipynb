{
 "cells": [
  {
   "cell_type": "code",
   "execution_count": null,
   "id": "d0b3fc0d-5077-46b1-97a2-ccdf59494ecc",
   "metadata": {},
   "outputs": [],
   "source": [
    "#라이브러리 임포트"
   ]
  },
  {
   "cell_type": "code",
   "execution_count": null,
   "id": "d373a0c1-a9fe-4ff7-8989-8908e703fe25",
   "metadata": {},
   "outputs": [],
   "source": [
    "import __________         # requests\n",
    "import telegram, asyncio\n",
    "import schedule\n",
    "import time\n",
    "import __________         # httpx\n",
    "import os\n"
   ]
  },
  {
   "cell_type": "code",
   "execution_count": null,
   "id": "88d304e6-ce4f-4411-8490-9d731e5c8d50",
   "metadata": {},
   "outputs": [],
   "source": [
    "#문제 2 - 환경변수 불러오기"
   ]
  },
  {
   "cell_type": "code",
   "execution_count": null,
   "id": "dd35ae85-8242-4704-a6b6-7b6299dbb2a6",
   "metadata": {},
   "outputs": [],
   "source": [
    "#load_dotenv()\n",
    "\n",
    "apikey = os.getenv(\"__________\")   # apikey\n",
    "token = os.getenv(\"__________\")    # token\n",
    "id = os.getenv(\"__________\")       # id"
   ]
  },
  {
   "cell_type": "code",
   "execution_count": null,
   "id": "d64cca7b-4073-4fcc-9c15-f2a14dc3e409",
   "metadata": {},
   "outputs": [],
   "source": [
    "#위치 정보와 API URL 만들기"
   ]
  },
  {
   "cell_type": "code",
   "execution_count": null,
   "id": "8bcaa616-4eb4-4f3f-aa84-fce224c8c31d",
   "metadata": {},
   "outputs": [],
   "source": [
    "def get_current_weather():\n",
    "    url = f\"https://api.openweathermap.org/data/2.5/forecast?lat={lat}&lon={lon}&lang=kr&appid={apikey}&units=metric\"\n",
    "    result = requests.get(url)\n",
    "    response = result.__________()         # json\n",
    "    return response['list'][0]\n"
   ]
  },
  {
   "cell_type": "code",
   "execution_count": null,
   "id": "08e3daf2-9e09-48c6-9f31-4c29971fc269",
   "metadata": {},
   "outputs": [],
   "source": [
    "#문제 5 - 텔레그램 메시지 전송 함수"
   ]
  },
  {
   "cell_type": "code",
   "execution_count": null,
   "id": "8d6853a1-cc78-4b80-8b62-5326739a17d7",
   "metadata": {},
   "outputs": [],
   "source": [
    "def send_telegram_message(text):\n",
    "    telegram_api_url = f\"https://api.telegram.org/bot{token}/sendMessage\"\n",
    "    payload = {\n",
    "        \"chat_id\": id,\n",
    "        \"text\": text\n",
    "    }\n",
    "\n",
    "    with httpx.__________() as client:   # Client\n",
    "        response = client.post(telegram_api_url, json=payload)\n",
    "\n",
    "    if response.status_code == 200:\n",
    "        print(f\"메시지 전송 완료: {text}\")\n",
    "    else:\n",
    "        print(f\"메시지 전송 실패: {response.status_code}, {response.text}\")\n"
   ]
  },
  {
   "cell_type": "code",
   "execution_count": null,
   "id": "c93b6716-afdf-4f64-9441-80fb2e37ebd0",
   "metadata": {},
   "outputs": [],
   "source": [
    "#문제 6 - 날씨 메시지 만들고 전송\n",
    "def send_weather_update():\n",
    "        try:\n",
    "            # 최신 날씨 데이터 가져오기\n",
    "            weather_data = get_current_weather()\n",
    "\n",
    "        # 메시지 준비\n",
    "            message = f\"{weather_data['dt_txt']}, 온도: {weather_data['main']['temp']}°C, 날씨: {weather_data['weather'][0]['description']}\"\n",
    "\n",
    "        # 텔레그램 메시지 전송\n",
    "            send_telegram_message(message)\n",
    "\n",
    "        except Exception as e:\n",
    "            print(f\"처리 중 오류 발생: {e}\")\n"
   ]
  },
  {
   "cell_type": "code",
   "execution_count": null,
   "id": "717d6a97-7f15-4d52-9e0c-52dbd237b1a5",
   "metadata": {},
   "outputs": [],
   "source": [
    "#문제 7 - 스케줄링"
   ]
  },
  {
   "cell_type": "code",
   "execution_count": null,
   "id": "39a2eff4-b68c-4cf8-bd5e-0cb229486143",
   "metadata": {},
   "outputs": [],
   "source": [
    "schedule.every(1).__________.do(send_weather_update)   # minutes"
   ]
  },
  {
   "cell_type": "code",
   "execution_count": null,
   "id": "281e3eb9-b845-4871-8a4e-56bf671eabf6",
   "metadata": {},
   "outputs": [],
   "source": [
    "#문제 8 - 메인 루프"
   ]
  },
  {
   "cell_type": "code",
   "execution_count": null,
   "id": "cd94311a-e5ca-4eae-b23c-8def4f5ccd2d",
   "metadata": {},
   "outputs": [],
   "source": [
    "while True:\n",
    "    schedule.run_pending()\n",
    "    time.sleep(__________)    "
   ]
  }
 ],
 "metadata": {
  "kernelspec": {
   "display_name": "Python 3 (ipykernel)",
   "language": "python",
   "name": "python3"
  },
  "language_info": {
   "codemirror_mode": {
    "name": "ipython",
    "version": 3
   },
   "file_extension": ".py",
   "mimetype": "text/x-python",
   "name": "python",
   "nbconvert_exporter": "python",
   "pygments_lexer": "ipython3",
   "version": "3.11.3"
  }
 },
 "nbformat": 4,
 "nbformat_minor": 5
}
