{
 "cells": [
  {
   "cell_type": "code",
   "execution_count": null,
   "id": "5c055448-bf1d-48de-bc88-7d8ae58cfc89",
   "metadata": {},
   "outputs": [],
   "source": [
    "#httpx는 requests보다 더 빠르고 비동기 처리가 가능한 HTTP 클라이언트 라이브러리입니다."
   ]
  },
  {
   "cell_type": "code",
   "execution_count": null,
   "id": "1d1a2f2d-01ba-4ae8-9e6d-518f30556fd3",
   "metadata": {},
   "outputs": [],
   "source": [
    "#GET 요청으로 JSON API 호출 (공공 데이터/날씨 등)"
   ]
  },
  {
   "cell_type": "code",
   "execution_count": null,
   "id": "bbbf681f-0469-4d9b-9c56-035685f3ff8c",
   "metadata": {},
   "outputs": [],
   "source": [
    "import httpx\n",
    "\n",
    "url = \"https://api.coindesk.com/v1/bpi/currentprice.json\"  # 비트코인 시세 API\n",
    "\n",
    "response = httpx.get(url)\n",
    "\n",
    "if response.status_code == 200:\n",
    "    data = response.json()\n",
    "    print(\"현재 비트코인 시세 (USD):\", data['bpi']['USD']['rate'])\n",
    "else:\n",
    "    print(\"요청 실패:\", response.status_code)"
   ]
  },
  {
   "cell_type": "code",
   "execution_count": null,
   "id": "11a0f826-2f94-4f8c-bbf6-6e004035fdae",
   "metadata": {},
   "outputs": [],
   "source": [
    "# POST 요청으로 데이터 전송 (폼 제출/챗봇 메시지 등)"
   ]
  },
  {
   "cell_type": "code",
   "execution_count": null,
   "id": "17973153-6de0-4020-a6f9-8aa6367c5338",
   "metadata": {},
   "outputs": [],
   "source": [
    "import httpx\n",
    "\n",
    "url = \"https://httpbin.org/post\"  # 테스트용 POST API\n",
    "payload = {\n",
    "    \"name\": \"홍길동\",\n",
    "    \"message\": \"안녕하세요!\"\n",
    "}\n",
    "\n",
    "response = httpx.post(url, data=payload)\n",
    "\n",
    "if response.status_code == 200:\n",
    "    print(\"응답 데이터:\\n\", response.json())\n",
    "else:\n",
    "    print(\"요청 실패:\", response.status_code)"
   ]
  }
 ],
 "metadata": {
  "kernelspec": {
   "display_name": "Python 3 (ipykernel)",
   "language": "python",
   "name": "python3"
  },
  "language_info": {
   "codemirror_mode": {
    "name": "ipython",
    "version": 3
   },
   "file_extension": ".py",
   "mimetype": "text/x-python",
   "name": "python",
   "nbconvert_exporter": "python",
   "pygments_lexer": "ipython3",
   "version": "3.11.3"
  }
 },
 "nbformat": 4,
 "nbformat_minor": 5
}
