{
 "cells": [
  {
   "cell_type": "markdown",
   "id": "9bccecc8",
   "metadata": {},
   "source": [
    "## OpenWeatherMap API 호출 연습\n",
    "아래의 연습문제들은 OpenWeatherMap API를 호출하는 방법에 대해 연습할 수 있도록 구성되어 있습니다.\n",
    "각 문제는 API 호출 과정을 구성하는 코드의 빈칸을 채우는 형식입니다."
   ]
  },
  {
   "cell_type": "markdown",
   "id": "49b7d625",
   "metadata": {},
   "source": [
    "### 문제 1 - `requests` 라이브러리 임포트"
   ]
  },
  {
   "cell_type": "code",
   "execution_count": null,
   "id": "a9f61d90",
   "metadata": {},
   "outputs": [],
   "source": [
    "import __________"
   ]
  },
  {
   "cell_type": "markdown",
   "id": "b6a3bccf",
   "metadata": {},
   "source": [
    "### 문제 2 - API 키 정의"
   ]
  },
  {
   "cell_type": "code",
   "execution_count": null,
   "id": "d62af56c",
   "metadata": {},
   "outputs": [],
   "source": [
    "api_key = \"__________\""
   ]
  },
  {
   "cell_type": "markdown",
   "id": "3b2c222f",
   "metadata": {},
   "source": [
    "### 문제 3 - 도시 이름 설정"
   ]
  },
  {
   "cell_type": "code",
   "execution_count": null,
   "id": "d649b415",
   "metadata": {},
   "outputs": [],
   "source": [
    "city = \"__________\""
   ]
  },
  {
   "cell_type": "markdown",
   "id": "90c8cc1b",
   "metadata": {},
   "source": [
    "### 문제 4 - URL 생성"
   ]
  },
  {
   "cell_type": "code",
   "execution_count": null,
   "id": "1d579e14",
   "metadata": {},
   "outputs": [],
   "source": [
    "url = f\"http://api.openweathermap.org/data/2.5/weather?q={city}&appid={api_key}&units=metric&lang=kr\""
   ]
  },
  {
   "cell_type": "markdown",
   "id": "8fb9fa40",
   "metadata": {},
   "source": [
    "### 문제 5 - API 요청 보내기"
   ]
  },
  {
   "cell_type": "code",
   "execution_count": null,
   "id": "31d057d2",
   "metadata": {},
   "outputs": [],
   "source": [
    "response = requests.__________(url)"
   ]
  },
  {
   "cell_type": "markdown",
   "id": "4d3367b0",
   "metadata": {},
   "source": [
    "### 문제 6 - JSON 데이터 파싱"
   ]
  },
  {
   "cell_type": "code",
   "execution_count": null,
   "id": "4431a95b",
   "metadata": {},
   "outputs": [],
   "source": [
    "data = response.__________()"
   ]
  },
  {
   "cell_type": "markdown",
   "id": "22c70643",
   "metadata": {},
   "source": [
    "### 문제 7 - 현재 온도 출력"
   ]
  },
  {
   "cell_type": "code",
   "execution_count": null,
   "id": "9bd0d4f2",
   "metadata": {},
   "outputs": [],
   "source": [
    "print(f\"{city}의 현재 온도: {data['main']['__________']}°C\")"
   ]
  },
  {
   "cell_type": "markdown",
   "id": "55353489",
   "metadata": {},
   "source": [
    "### 문제 8 - 날씨 상태 출력"
   ]
  },
  {
   "cell_type": "code",
   "execution_count": null,
   "id": "c6d901eb",
   "metadata": {},
   "outputs": [],
   "source": [
    "print(f\"날씨 상태: {data['weather'][0]['__________']}\")"
   ]
  },
  {
   "cell_type": "markdown",
   "id": "ae834d1b",
   "metadata": {},
   "source": [
    "### 문제 9 - 전체 코드 조합"
   ]
  },
  {
   "cell_type": "code",
   "execution_count": null,
   "id": "205678f3",
   "metadata": {},
   "outputs": [],
   "source": [
    "\n",
    "import requests\n",
    "\n",
    "api_key = \"__________\"\n",
    "city = \"__________\"\n",
    "url = f\"http://api.openweathermap.org/data/2.5/weather?q={city}&appid={api_key}&units=metric&lang=kr\"\n",
    "\n",
    "response = requests.__________(url)\n",
    "data = response.__________()\n",
    "\n",
    "print(f\"{city}의 현재 온도: {data['main']['temp']}°C\")\n",
    "print(f\"날씨 상태: {data['weather'][0]['description']}\")\n"
   ]
  },
  {
   "cell_type": "markdown",
   "id": "9ea05340",
   "metadata": {},
   "source": [
    "### 문제 10 - 전체 코드 복습 (description도 빈칸)"
   ]
  },
  {
   "cell_type": "code",
   "execution_count": null,
   "id": "0ae499be",
   "metadata": {},
   "outputs": [],
   "source": [
    "\n",
    "import requests\n",
    "\n",
    "api_key = \"__________\"\n",
    "city = \"__________\"\n",
    "url = f\"http://api.openweathermap.org/data/2.5/weather?q={city}&appid={api_key}&units=metric&lang=kr\"\n",
    "\n",
    "response = requests.__________(url)\n",
    "data = response.__________()\n",
    "\n",
    "print(f\"{city}의 현재 온도: {data['main']['temp']}°C\")\n",
    "print(f\"날씨 상태: {data['weather'][0]['__________']}\")\n"
   ]
  },
  {
   "cell_type": "markdown",
   "id": "9f5adb8c",
   "metadata": {},
   "source": [
    "### 문제 11 - 체감 온도 출력"
   ]
  },
  {
   "cell_type": "code",
   "execution_count": null,
   "id": "d18d4015",
   "metadata": {},
   "outputs": [],
   "source": [
    "print(f\"체감 온도: {data['main']['__________']}°C\")"
   ]
  },
  {
   "cell_type": "markdown",
   "id": "fb6d2c49",
   "metadata": {},
   "source": [
    "### 문제 12 - 최저 기온 출력"
   ]
  },
  {
   "cell_type": "code",
   "execution_count": null,
   "id": "4b620e67",
   "metadata": {},
   "outputs": [],
   "source": [
    "print(f\"최저 기온: {data['main']['__________']}°C\")"
   ]
  },
  {
   "cell_type": "markdown",
   "id": "9706fcf4",
   "metadata": {},
   "source": [
    "### 문제 13 - 최고 기온 출력"
   ]
  },
  {
   "cell_type": "code",
   "execution_count": null,
   "id": "0f2a30b5",
   "metadata": {},
   "outputs": [],
   "source": [
    "print(f\"최고 기온: {data['main']['__________']}°C\")"
   ]
  },
  {
   "cell_type": "markdown",
   "id": "2d3fcce1",
   "metadata": {},
   "source": [
    "### 문제 14 - 습도 출력"
   ]
  },
  {
   "cell_type": "code",
   "execution_count": null,
   "id": "edaaa5eb",
   "metadata": {},
   "outputs": [],
   "source": [
    "print(f\"습도: {data['main']['__________']}%\")"
   ]
  },
  {
   "cell_type": "markdown",
   "id": "b0cdd847",
   "metadata": {},
   "source": [
    "### 문제 15 - 풍속 출력"
   ]
  },
  {
   "cell_type": "code",
   "execution_count": null,
   "id": "ea56b329",
   "metadata": {},
   "outputs": [],
   "source": [
    "print(f\"풍속: {data['wind']['__________']} m/s\")"
   ]
  }
 ],
 "metadata": {},
 "nbformat": 4,
 "nbformat_minor": 5
}