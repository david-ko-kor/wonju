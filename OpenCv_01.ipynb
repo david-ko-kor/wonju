{
  "nbformat": 4,
  "nbformat_minor": 0,
  "metadata": {
    "colab": {
      "provenance": []
    },
    "kernelspec": {
      "name": "python3",
      "display_name": "Python 3"
    },
    "language_info": {
      "name": "python"
    }
  },
  "cells": [
    {
      "cell_type": "code",
      "execution_count": null,
      "metadata": {
        "id": "lySz0Kegb8y4"
      },
      "outputs": [],
      "source": [
        "import cv2\n",
        "img_basic = cv2.imread('image_basic.png', cv2.IMREAD_COLOR)\n",
        "cv2.imshow('Image Basic', img_basic)\n",
        "cv2.waitKey(0)\n",
        "cv2.imwrite('result1.png', img_basic)\n",
        "img_gray = cv2.cvtColor(img_basic, cv2.COLOR_BGR2GRAY)\n",
        "cv2.imshow('Image Gray', img_gray)\n",
        "cv2.waitKey(0)\n",
        "cv2.imwrite('result2.png', img_gray)\n",
        "cv2.destroyAllWindows()\n"
      ]
    }
  ]
}