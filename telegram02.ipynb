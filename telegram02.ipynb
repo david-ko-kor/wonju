{
 "cells": [
  {
   "cell_type": "code",
   "execution_count": null,
   "id": "998f2a3d-d7e7-49a7-a222-c3f294dc2fba",
   "metadata": {},
   "outputs": [],
   "source": [
    "#에러나 정보 메시지를 출력하여 디버깅할 수 있도록 도와주는 표준 파이썬 모듈입니다."
   ]
  },
  {
   "cell_type": "code",
   "execution_count": 4,
   "id": "72ad10ec-116a-453e-a960-2b50daa56d65",
   "metadata": {},
   "outputs": [
    {
     "name": "stdout",
     "output_type": "stream",
     "text": [
      "Collecting python-telegram-bot\n",
      "  Using cached python_telegram_bot-22.1-py3-none-any.whl (702 kB)\n",
      "Requirement already satisfied: httpx in /Library/Frameworks/Python.framework/Versions/3.11/lib/python3.11/site-packages (0.28.1)\n",
      "Requirement already satisfied: anyio in /Library/Frameworks/Python.framework/Versions/3.11/lib/python3.11/site-packages (from httpx) (4.9.0)\n",
      "Requirement already satisfied: certifi in /Library/Frameworks/Python.framework/Versions/3.11/lib/python3.11/site-packages (from httpx) (2025.4.26)\n",
      "Requirement already satisfied: httpcore==1.* in /Library/Frameworks/Python.framework/Versions/3.11/lib/python3.11/site-packages (from httpx) (1.0.9)\n",
      "Requirement already satisfied: idna in /Library/Frameworks/Python.framework/Versions/3.11/lib/python3.11/site-packages (from httpx) (3.4)\n",
      "Requirement already satisfied: h11>=0.16 in /Library/Frameworks/Python.framework/Versions/3.11/lib/python3.11/site-packages (from httpcore==1.*->httpx) (0.16.0)\n",
      "Requirement already satisfied: sniffio>=1.1 in /Library/Frameworks/Python.framework/Versions/3.11/lib/python3.11/site-packages (from anyio->httpx) (1.3.0)\n",
      "Requirement already satisfied: typing_extensions>=4.5 in /Library/Frameworks/Python.framework/Versions/3.11/lib/python3.11/site-packages (from anyio->httpx) (4.13.2)\n",
      "Installing collected packages: python-telegram-bot\n",
      "Successfully installed python-telegram-bot-22.1\n",
      "\n",
      "\u001b[1m[\u001b[0m\u001b[34;49mnotice\u001b[0m\u001b[1;39;49m]\u001b[0m\u001b[39;49m A new release of pip is available: \u001b[0m\u001b[31;49m23.1.2\u001b[0m\u001b[39;49m -> \u001b[0m\u001b[32;49m25.1.1\u001b[0m\n",
      "\u001b[1m[\u001b[0m\u001b[34;49mnotice\u001b[0m\u001b[1;39;49m]\u001b[0m\u001b[39;49m To update, run: \u001b[0m\u001b[32;49mpip install --upgrade pip\u001b[0m\n",
      "Note: you may need to restart the kernel to use updated packages.\n"
     ]
    }
   ],
   "source": [
    "pip install python-telegram-bot httpx"
   ]
  },
  {
   "cell_type": "code",
   "execution_count": null,
   "id": "0fc3117f-8fbc-46e5-90ec-1aaa2ed5d68a",
   "metadata": {},
   "outputs": [],
   "source": [
    "import logging\n"
   ]
  },
  {
   "cell_type": "code",
   "execution_count": null,
   "id": "43250dd5-e23d-4697-9bcb-4a106fc4ce34",
   "metadata": {},
   "outputs": [],
   "source": [
    "#비동기적으로 웹 API에 요청을 보내고 응답을 받을 수 있도록 해주는 라이브러리입니다"
   ]
  },
  {
   "cell_type": "code",
   "execution_count": 5,
   "id": "1166860c-539d-4ee3-b878-9c2df9bceaca",
   "metadata": {},
   "outputs": [
    {
     "name": "stdout",
     "output_type": "stream",
     "text": [
      "연결 실패: [Errno 8] nodename nor servname provided, or not known\n",
      "인터넷 연결을 확인하세요.\n"
     ]
    }
   ],
   "source": [
    "import httpx\n",
    "\n",
    "url = \"https://api.coindesk.com/v1/bpi/currentprice.json\"\n",
    "\n",
    "try:\n",
    "    response = httpx.get(url, timeout=10.0)  # 타임아웃 추가\n",
    "    response.raise_for_status()  # 상태 코드가 200이 아니면 예외 발생\n",
    "    data = response.json()\n",
    "    print(\"현재 비트코인 시세 (USD):\", data['bpi']['USD']['rate'])\n",
    "except httpx.ConnectError as e:\n",
    "    print(f\"연결 실패: {e}\\n인터넷 연결을 확인하세요.\")\n",
    "except httpx.RequestError as e:\n",
    "    print(f\"요청 중 오류 발생: {e}\")\n",
    "except Exception as e:\n",
    "    print(f\"기타 오류: {e}\")"
   ]
  },
  {
   "cell_type": "code",
   "execution_count": null,
   "id": "d138aadf-0045-42f7-9aec-92ec7cd95963",
   "metadata": {},
   "outputs": [],
   "source": [
    "#텔레그램 사용자로부터 받은 메시지나 명령어 등의 정보를 담는 객체입니다.( 사용자의 ID, 메시지 내용 확인가능)"
   ]
  },
  {
   "cell_type": "code",
   "execution_count": 10,
   "id": "7a676746-9e29-490b-ade7-d5a941f5f01e",
   "metadata": {},
   "outputs": [
    {
     "name": "stdout",
     "output_type": "stream",
     "text": [
      "user User(first_name='규형', id=6324513785, is_bot=False, language_code='ko', last_name='고')\n",
      "text 안녕하세요\n"
     ]
    },
    {
     "name": "stderr",
     "output_type": "stream",
     "text": [
      "/var/folders/l1/pv43jhns1c1_y51sp6rpbtx40000gn/T/ipykernel_30952/1129789038.py:25: RuntimeWarning: coroutine 'run_bot' was never awaited\n",
      "  run_bot()\n",
      "RuntimeWarning: Enable tracemalloc to get the object allocation traceback\n"
     ]
    }
   ],
   "source": [
    "import asyncio\n",
    "from telegram import Update\n",
    "from telegram.ext import Application, MessageHandler, ContextTypes, filters\n",
    "mytoken=#여러분들의token\n",
    "async def handle_message(update: Update, context: ContextTypes.DEFAULT_TYPE):\n",
    "    user = update.effective_user\n",
    "    print(\"user\",user)\n",
    "    text = update.message.text\n",
    "    print(\"text\",text)\n",
    "    await update.message.reply_text(f\"{user.first_name}님이 '{text}'라고 말했습니다.\")\n",
    "\n",
    "async def run_bot():\n",
    "    app = Application.builder().token(mytoken).build()\n",
    "    app.add_handler(MessageHandler(filters.TEXT & ~filters.COMMAND, handle_message))\n",
    "    app.run_polling()\n",
    "\n",
    "if __name__ == \"__main__\":\n",
    "    try:\n",
    "        asyncio.run(run_bot())\n",
    "    except RuntimeError as e:\n",
    "        if \"cannot close a running event loop\" in str(e).lower():\n",
    "            # Jupyter 환경 등에서 이미 루프가 실행 중인 경우\n",
    "            import nest_asyncio\n",
    "            nest_asyncio.apply()\n",
    "            run_bot()\n",
    "        else:\n",
    "            raise"
   ]
  },
  {
   "cell_type": "code",
   "execution_count": null,
   "id": "8f4aad33-fe75-40d1-ad93-c9c6540d0ce3",
   "metadata": {},
   "outputs": [],
   "source": [
    "#봇을 실행하고, 명령어/메시지를 핸들링하며, 이벤트 루프를 돌리는 메인 클래스"
   ]
  },
  {
   "cell_type": "code",
   "execution_count": 11,
   "id": "8f979504-04ec-4d10-b093-2f7e3f9cceae",
   "metadata": {},
   "outputs": [
    {
     "name": "stderr",
     "output_type": "stream",
     "text": [
      "/var/folders/l1/pv43jhns1c1_y51sp6rpbtx40000gn/T/ipykernel_30952/116127755.py:19: RuntimeWarning: coroutine 'run_bot' was never awaited\n",
      "  run_bot()\n",
      "RuntimeWarning: Enable tracemalloc to get the object allocation traceback\n"
     ]
    }
   ],
   "source": [
    "\n",
    "from telegram.ext import Application, CommandHandler\n",
    "mytoken=#여러분들의token\n",
    "async def start(update, context):\n",
    "    await update.message.reply_text(\"👋 안녕하세요! 봇이 시작되었습니다.\")\n",
    "\n",
    "async def main():\n",
    "    app = Application.builder().token(mytoken).build()\n",
    "    app.add_handler(CommandHandler(\"start\", start))\n",
    "    app.run_polling()\n",
    "\n",
    "if __name__ == \"__main__\":\n",
    "    try:\n",
    "        asyncio.run(main())\n",
    "    except RuntimeError as e:\n",
    "        if \"cannot close a running event loop\" in str(e).lower():\n",
    "            # Jupyter 환경 등에서 이미 루프가 실행 중인 경우\n",
    "            import nest_asyncio\n",
    "            nest_asyncio.apply()\n",
    "            run_bot()\n",
    "        else:\n",
    "            raise"
   ]
  },
  {
   "cell_type": "code",
   "execution_count": null,
   "id": "eddf82e7-3690-45ac-b000-f0949dcd085b",
   "metadata": {},
   "outputs": [],
   "source": [
    "#사용자가 일반 텍스트 메시지를 입력했을 때 이를 감지하고 처리하는 데 사용"
   ]
  },
  {
   "cell_type": "code",
   "execution_count": 13,
   "id": "a8bdfca3-3e09-478e-ab30-6796023ee5da",
   "metadata": {},
   "outputs": [
    {
     "name": "stderr",
     "output_type": "stream",
     "text": [
      "/var/folders/l1/pv43jhns1c1_y51sp6rpbtx40000gn/T/ipykernel_30952/1003096584.py:19: RuntimeWarning: coroutine 'run_bot' was never awaited\n",
      "  run_bot()\n",
      "RuntimeWarning: Enable tracemalloc to get the object allocation traceback\n"
     ]
    }
   ],
   "source": [
    "\n",
    "from telegram.ext import Application, MessageHandler, filters\n",
    "mytoken=#여러분들의token\n",
    "async def echo(update, context):\n",
    "    await update.message.reply_text(update.message.text)\n",
    "\n",
    "async def main():\n",
    "    app = Application.builder().token(mytoken).build()\n",
    "    app.add_handler(MessageHandler(filters.TEXT & ~filters.COMMAND, echo))\n",
    "    app.run_polling()\n",
    "\n",
    "if __name__ == \"__main__\":\n",
    "    try:\n",
    "        asyncio.run(main())\n",
    "    except RuntimeError as e:\n",
    "        if \"cannot close a running event loop\" in str(e).lower():\n",
    "            # Jupyter 환경 등에서 이미 루프가 실행 중인 경우\n",
    "            import nest_asyncio\n",
    "            nest_asyncio.apply()\n",
    "            run_bot()\n",
    "        else:\n",
    "            raise"
   ]
  },
  {
   "cell_type": "code",
   "execution_count": null,
   "id": "98226d36-13dc-4322-a712-9388c5ac01c9",
   "metadata": {},
   "outputs": [],
   "source": [
    "# 명령어가 아닌 일반 텍스트 메시지를 걸러내는 필터"
   ]
  },
  {
   "cell_type": "code",
   "execution_count": null,
   "id": "6e88cc01-754d-425b-bcb9-ca2255a76a12",
   "metadata": {},
   "outputs": [],
   "source": [
    "from telegram.ext import filters"
   ]
  },
  {
   "cell_type": "code",
   "execution_count": null,
   "id": "5b593263-2490-4a82-966d-27e8b9501885",
   "metadata": {},
   "outputs": [],
   "source": [
    "#핸들러 함수 내부에서 봇이나 메시지 정보에 접근할 때 사용하는 객체"
   ]
  },
  {
   "cell_type": "code",
   "execution_count": null,
   "id": "4d971208-4bbf-47c4-86e5-bdeb582ec7ef",
   "metadata": {},
   "outputs": [],
   "source": [
    "from telegram.ext import ContextTypes"
   ]
  }
 ],
 "metadata": {
  "kernelspec": {
   "display_name": "Python 3 (ipykernel)",
   "language": "python",
   "name": "python3"
  },
  "language_info": {
   "codemirror_mode": {
    "name": "ipython",
    "version": 3
   },
   "file_extension": ".py",
   "mimetype": "text/x-python",
   "name": "python",
   "nbconvert_exporter": "python",
   "pygments_lexer": "ipython3",
   "version": "3.11.3"
  }
 },
 "nbformat": 4,
 "nbformat_minor": 5
}
