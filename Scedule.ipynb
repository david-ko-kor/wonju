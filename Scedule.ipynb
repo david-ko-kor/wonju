{
 "cells": [
  {
   "cell_type": "code",
   "execution_count": null,
   "id": "cd1a660f-e76c-42ec-b2da-49db8bc0fd51",
   "metadata": {},
   "outputs": [],
   "source": [
    "#schedule 사용 예제 3개\n",
    "!pip install schedule"
   ]
  },
  {
   "cell_type": "code",
   "execution_count": null,
   "id": "f3e52b71-4408-4738-aabe-3eabdc0e2221",
   "metadata": {},
   "outputs": [],
   "source": [
    "import schedule\n",
    "import time\n",
    "\n",
    "def job():\n",
    "    print(\"작업 실행!\")\n",
    "\n",
    "# 1. 매 1분마다\n",
    "schedule.every(1).minutes.do(job)\n",
    "\n",
    "# 2. 매일 오전 8시에\n",
    "schedule.every().day.at(\"08:00\").do(job)\n",
    "\n",
    "# 3. 매주 월요일마다\n",
    "schedule.every().monday.do(job)\n",
    "\n",
    "while True:\n",
    "    schedule.run_pending()\n",
    "    time.sleep(1)\n"
   ]
  }
 ],
 "metadata": {
  "kernelspec": {
   "display_name": "Python 3 (ipykernel)",
   "language": "python",
   "name": "python3"
  },
  "language_info": {
   "codemirror_mode": {
    "name": "ipython",
    "version": 3
   },
   "file_extension": ".py",
   "mimetype": "text/x-python",
   "name": "python",
   "nbconvert_exporter": "python",
   "pygments_lexer": "ipython3",
   "version": "3.11.3"
  }
 },
 "nbformat": 4,
 "nbformat_minor": 5
}
